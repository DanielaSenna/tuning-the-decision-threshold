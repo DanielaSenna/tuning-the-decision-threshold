{
 "cells": [
  {
   "cell_type": "markdown",
   "metadata": {},
   "source": [
    "# **Ajustando o Limite de Decisão (threshold) para Previsão de Classe**\n",
    "\n",
    "\n",
    "\n",
    "Existem muitas técnicas que podem ser usadas para resolver um problema de classificação desequilibrada, como a reamostragem do conjunto de dados de treinamento e o desenvolvimento de versões personalizadas de algoritmos de aprendizado de máquina. No entanto, talvez a abordagem mais simples para lidar com um grave desequilíbrio de classes seja alterar o limiar de decisão. \n",
    "\n",
    "\n",
    "Os modelos de classificação não retornam 0 ou 1, mas sim um valor probabilístico. \n",
    "* O **predict_proba** é o método que retorna as estimativas de probabilidade condicionais para cada classe\n",
    "* O **predict** é o método que faz o ajuste das probabailidades usando o limite de decisão (ou threshold) e assim retorna 0 ou 1. \n",
    "* O **threshold** padrão é 0.5, ou seja, se um valor está acima de 0.5 pertence a classe 1, senão a classe 0.\n",
    "\n",
    "\n",
    "Embora essas regras codificadas possam, à primeira vista, parecer razoáveis ​​como comportamento padrão, elas certamente não são ideais para a maioria dos casos de uso. Vamos ilustrar com um exemplo.\n",
    "\n",
    "Considere um cenário em que um modelo preditivo está sendo implantado para auxiliar os médicos na detecção de tumores. Neste cenário, os médicos provavelmente estarão interessados ​​em identificar todos os pacientes com câncer e em não perder ninguém com câncer, para que possam fornecer-lhes o tratamento correto. \n",
    "\n",
    "Em outras palavras, os médicos priorizam alcançar uma alta taxa de recall. Esta ênfase na recordação vem, naturalmente, com o compromisso de potencialmente mais previsões falso-positivas, reduzindo a precisão do modelo. Este é um risco que os médicos estão dispostos a correr porque o custo de um câncer não detectado é muito mais elevado do que o custo de novos testes de diagnóstico. Consequentemente, quando se trata de decidir se deve ou não classificar um paciente como tendo câncer, pode ser mais benéfico classificá-lo como positivo para câncer quando a estimativa da probabilidade condicional é muito inferior a 0,5.\n",
    "\n",
    "Uma solução para resolver o problema declarado na introdução é ajustar o limite de decisão do classificador assim que o modelo for treinado."
   ]
  },
  {
   "cell_type": "code",
   "execution_count": 1540,
   "metadata": {},
   "outputs": [],
   "source": [
    "from sklearn.datasets import make_classification\n",
    "from sklearn.model_selection import train_test_split\n",
    "from fast_ml.model_development import train_valid_test_split\n",
    "from sklearn.linear_model import LogisticRegression\n",
    "from sklearn.metrics import roc_curve, roc_auc_score\n",
    "from matplotlib import pyplot\n",
    "import numpy as np\n",
    "from sklearn.metrics import f1_score, balanced_accuracy_score\n",
    "from sklearn.model_selection import TunedThresholdClassifierCV, FixedThresholdClassifier\n",
    "from sklearn.metrics import classification_report\n",
    "import pandas as pd"
   ]
  },
  {
   "cell_type": "markdown",
   "metadata": {},
   "source": [
    "Podemos usar a função make_classification() para criar um problema de classificação binária sintética com 10.000 exemplos (linhas), \n",
    "\n",
    "99% dos quais pertencem à classe majoritária e 1% pertencem à classe minoritária."
   ]
  },
  {
   "cell_type": "code",
   "execution_count": 1541,
   "metadata": {},
   "outputs": [],
   "source": [
    "# Gerando o conjunto de dados\n",
    "X, y = make_classification(n_samples=10000, n_features=2, n_redundant=0, n_clusters_per_class=1, weights=[0.99, 0.01], flip_y=0, random_state=42)"
   ]
  },
  {
   "cell_type": "code",
   "execution_count": 1542,
   "metadata": {},
   "outputs": [
    {
     "data": {
      "text/plain": [
       "(array([[-0.41258169,  0.95744559],\n",
       "        [ 1.59928079,  1.33739959],\n",
       "        [-0.51671004,  0.3448303 ],\n",
       "        ...,\n",
       "        [ 0.1115419 , -0.02746983],\n",
       "        [-1.66451922,  0.95578416],\n",
       "        [-1.49848631,  1.22767294]]),\n",
       " array([0, 1, 0, ..., 0, 0, 0]))"
      ]
     },
     "execution_count": 1542,
     "metadata": {},
     "output_type": "execute_result"
    }
   ],
   "source": [
    "X, y"
   ]
  },
  {
   "cell_type": "code",
   "execution_count": 1543,
   "metadata": {},
   "outputs": [
    {
     "data": {
      "text/html": [
       "<div>\n",
       "<style scoped>\n",
       "    .dataframe tbody tr th:only-of-type {\n",
       "        vertical-align: middle;\n",
       "    }\n",
       "\n",
       "    .dataframe tbody tr th {\n",
       "        vertical-align: top;\n",
       "    }\n",
       "\n",
       "    .dataframe thead th {\n",
       "        text-align: right;\n",
       "    }\n",
       "</style>\n",
       "<table border=\"1\" class=\"dataframe\">\n",
       "  <thead>\n",
       "    <tr style=\"text-align: right;\">\n",
       "      <th></th>\n",
       "      <th>X1</th>\n",
       "      <th>X2</th>\n",
       "      <th>y</th>\n",
       "    </tr>\n",
       "  </thead>\n",
       "  <tbody>\n",
       "    <tr>\n",
       "      <th>0</th>\n",
       "      <td>-0.412582</td>\n",
       "      <td>0.957446</td>\n",
       "      <td>0</td>\n",
       "    </tr>\n",
       "    <tr>\n",
       "      <th>1</th>\n",
       "      <td>1.599281</td>\n",
       "      <td>1.337400</td>\n",
       "      <td>1</td>\n",
       "    </tr>\n",
       "    <tr>\n",
       "      <th>2</th>\n",
       "      <td>-0.516710</td>\n",
       "      <td>0.344830</td>\n",
       "      <td>0</td>\n",
       "    </tr>\n",
       "    <tr>\n",
       "      <th>3</th>\n",
       "      <td>-2.006680</td>\n",
       "      <td>1.932433</td>\n",
       "      <td>0</td>\n",
       "    </tr>\n",
       "    <tr>\n",
       "      <th>4</th>\n",
       "      <td>-0.559352</td>\n",
       "      <td>1.253855</td>\n",
       "      <td>0</td>\n",
       "    </tr>\n",
       "    <tr>\n",
       "      <th>...</th>\n",
       "      <td>...</td>\n",
       "      <td>...</td>\n",
       "      <td>...</td>\n",
       "    </tr>\n",
       "    <tr>\n",
       "      <th>9995</th>\n",
       "      <td>-0.283983</td>\n",
       "      <td>0.107912</td>\n",
       "      <td>0</td>\n",
       "    </tr>\n",
       "    <tr>\n",
       "      <th>9996</th>\n",
       "      <td>-1.901450</td>\n",
       "      <td>1.575456</td>\n",
       "      <td>0</td>\n",
       "    </tr>\n",
       "    <tr>\n",
       "      <th>9997</th>\n",
       "      <td>0.111542</td>\n",
       "      <td>-0.027470</td>\n",
       "      <td>0</td>\n",
       "    </tr>\n",
       "    <tr>\n",
       "      <th>9998</th>\n",
       "      <td>-1.664519</td>\n",
       "      <td>0.955784</td>\n",
       "      <td>0</td>\n",
       "    </tr>\n",
       "    <tr>\n",
       "      <th>9999</th>\n",
       "      <td>-1.498486</td>\n",
       "      <td>1.227673</td>\n",
       "      <td>0</td>\n",
       "    </tr>\n",
       "  </tbody>\n",
       "</table>\n",
       "<p>10000 rows × 3 columns</p>\n",
       "</div>"
      ],
      "text/plain": [
       "            X1        X2  y\n",
       "0    -0.412582  0.957446  0\n",
       "1     1.599281  1.337400  1\n",
       "2    -0.516710  0.344830  0\n",
       "3    -2.006680  1.932433  0\n",
       "4    -0.559352  1.253855  0\n",
       "...        ...       ... ..\n",
       "9995 -0.283983  0.107912  0\n",
       "9996 -1.901450  1.575456  0\n",
       "9997  0.111542 -0.027470  0\n",
       "9998 -1.664519  0.955784  0\n",
       "9999 -1.498486  1.227673  0\n",
       "\n",
       "[10000 rows x 3 columns]"
      ]
     },
     "execution_count": 1543,
     "metadata": {},
     "output_type": "execute_result"
    }
   ],
   "source": [
    "df = pd.DataFrame(X)\n",
    "df.columns = ['X1', 'X2']\n",
    "df['y'] = y\n",
    "df"
   ]
  },
  {
   "cell_type": "code",
   "execution_count": 1544,
   "metadata": {},
   "outputs": [
    {
     "data": {
      "text/plain": [
       "y\n",
       "0    9900\n",
       "1     100\n",
       "Name: count, dtype: int64"
      ]
     },
     "execution_count": 1544,
     "metadata": {},
     "output_type": "execute_result"
    }
   ],
   "source": [
    "# O label de interesse é o 1\n",
    "df['y'].value_counts()"
   ]
  },
  {
   "cell_type": "code",
   "execution_count": 1545,
   "metadata": {},
   "outputs": [
    {
     "name": "stdout",
     "output_type": "stream",
     "text": [
      "(7000,) (1500,) (1500,)\n",
      "[[-1.11655076  1.41174808]\n",
      " [-0.47645867  0.45718654]\n",
      " [-1.47887531  1.48282532]\n",
      " ...\n",
      " [ 2.07396459 -1.6529841 ]\n",
      " [-1.62321213  1.26984198]\n",
      " [-1.43027586  1.36533772]]\n"
     ]
    }
   ],
   "source": [
    "# Divisão do Conjunto de Dados\n",
    "# X_train, X_test, y_train, y_test = train_test_split(X, y, test_size=0.3, random_state=42, stratify=y)\n",
    "\n",
    "X_train, y_train, X_valid, y_valid, X_test, y_test = train_valid_test_split(df, \"y\", train_size=0.7, valid_size=0.15, test_size=0.15)\n",
    "\n",
    "print(y_train.shape, y_test.shape, y_valid.shape)\n",
    "\n",
    "print(X_train.values)"
   ]
  },
  {
   "cell_type": "markdown",
   "metadata": {},
   "source": [
    "#### **Ajuste de Limite Ideal de Forma Manual**\n",
    "\n",
    "Às vezes, simplesmente temos um modelo e desejamos saber diretamente o melhor limite.\n",
    "\n",
    "Neste caso, podemos definir um conjunto de limites e então avaliar as probabilidades previstas em cada um deles, a fim de encontrar e selecionar o limite ideal.\n",
    "\n",
    "Podemos demonstrar isso com um exemplo prático.\n",
    "\n",
    "Primeiro, podemos ajustar um modelo de regressão logística ao nosso problema de classificação sintética, depois prever os rótulos das classes e avaliá-los usando a métrica balanced_accuracy_score.\n",
    "\n",
    "Isto utilizará o limite padrão de 0.5 ao interpretar as probabilidades previstas pelo modelo de regressão logística.\n",
    "\n",
    "O exemplo completo está listado abaixo."
   ]
  },
  {
   "cell_type": "code",
   "execution_count": 1546,
   "metadata": {},
   "outputs": [
    {
     "name": "stdout",
     "output_type": "stream",
     "text": [
      "Balanced Accuracy: 0.81\n"
     ]
    }
   ],
   "source": [
    "# Instanciar o modelo\n",
    "model = LogisticRegression()\n",
    "\n",
    "# Treinar o modelo\n",
    "model.fit(X_train, y_train)\n",
    "\n",
    "# Prever rótulos\n",
    "# Os modelos de classificação não retornam 0 ou 1, mas sim um valor probabilístico\n",
    "# O predict é o método que faz o ajuste das probabailidades usando o limite de decisão (ou threshold) e assim retorna 0 ou 1.\n",
    "# O threshold padrão é 0.5, ou seja, se um valor está acima de 0.5 pertence a classe 1, senão a classe 0.\n",
    "yhat = model.predict(X_test)\n",
    "\n",
    "# Avaliar o modelo\n",
    "score = balanced_accuracy_score(y_test, yhat)\n",
    "print('Balanced Accuracy: %.2f' % score)"
   ]
  },
  {
   "cell_type": "markdown",
   "metadata": {},
   "source": [
    "Nota : Seus resultados podem variar devido à natureza estocástica do algoritmo ou procedimento de avaliação, ou diferenças na precisão numérica. Considere executar o exemplo algumas vezes e compare o resultado médio.\n",
    "\n",
    "Executando o exemplo, podemos ver que o modelo atingiu um Balanced Accuracy de cerca de 0.85 no conjunto de dados de teste."
   ]
  },
  {
   "cell_type": "markdown",
   "metadata": {},
   "source": [
    "Curva ROC\n",
    "\n",
    "A curva roc avalia a capacidade do modelo de distinguir entre a classe positiva e negativa para diferentes limiares de classificação.\n",
    "\n",
    "Portanto, ao invés de gerar várias matrizes de confusão para diferentes limiares, podemos usar o gráfico para verificar o desempenho do modelo para cada limiar.\n",
    "\n",
    "A curva roc é composta no \n",
    "Eixo Y pela sensibilidade (recall - Taxa Verdadeiro Positivo - True Positive Rate - TPR) e no\n",
    "Eixo X pela 1 - Especificidade (Taxa de Falso Positivo - False Positive Rate - TNR), e nela é demonstrado a relação entre essas duas taxas.\n",
    "\n",
    "Observe que o gráfico não vai dizer qual o melhor limiar escolher, mas vai demonstrar o custo ao aumentar a sensibilidade ou a especificidade.\n",
    "\n",
    "Então você pode aumentar e dimiuir a limiar e avaliar o quanto esta interferindo no resultado final.\n",
    "\n",
    "Mas é possível utilizar outras técnicas para auxiliar nessa seleção do limiar, como:\n",
    "* F1-Score\n",
    "* Distância de Youden\n",
    "* Distância do Ponto ideal"
   ]
  },
  {
   "cell_type": "code",
   "execution_count": 1547,
   "metadata": {},
   "outputs": [
    {
     "data": {
      "image/png": "[encoded data removed]",
      "text/plain": [
       "<Figure size 640x480 with 1 Axes>"
      ]
     },
     "metadata": {},
     "output_type": "display_data"
    }
   ],
   "source": [
    "fpr, tpr, thresholds = roc_curve(y_test, yhat)\n",
    "\n",
    "pyplot.plot([0,1], [0,1], linestyle='--', label='No Skill')\n",
    "pyplot.plot(fpr, tpr, marker='.', label='Logistic')\n",
    "# axis labels\n",
    "pyplot.xlabel('False Positive Rate')\n",
    "pyplot.ylabel('True Positive Rate')\n",
    "pyplot.legend()\n",
    "# show the plot\n",
    "pyplot.show()"
   ]
  },
  {
   "cell_type": "markdown",
   "metadata": {},
   "source": [
    "Além disso, a curva ROC é uma ótima ferramenta para comparar vários algoritmos para analisar qual teve a melhor performance em cada limiar de classificação, porque ainda tem o auxílio do AUC.\n",
    "\n",
    "AUC é a área sob a curva ROC, representado por um número indicando o quanto o modelo ficou bom para prever a classe positiva e negativa.\n",
    "Quanto maior o AUC, melhor é o modelo.\n",
    "\n",
    "Caso o interesse principal não seja o gráfico, mas sim o próprio escore ROC-AUC, podemos reproduzir o valor mostrado no gráfico usando roc_auc_score."
   ]
  },
  {
   "cell_type": "code",
   "execution_count": 1548,
   "metadata": {},
   "outputs": [
    {
     "name": "stdout",
     "output_type": "stream",
     "text": [
      "Micro-averaged One-vs-Rest ROC AUC score:\n",
      "1.00\n",
      "Macro-averaged One-vs-Rest ROC AUC score:\n",
      "1.00\n",
      "Weighted-averaged One-vs-Rest ROC AUC score:\n",
      "1.00\n"
     ]
    }
   ],
   "source": [
    "micro_roc_auc_mi = roc_auc_score(y_test, model.predict_proba(X_test)[:, 1], average=\"micro\")\n",
    "micro_roc_auc_ma = roc_auc_score(y_test, model.predict_proba(X_test)[:, 1], average=\"macro\")\n",
    "micro_roc_auc_we = roc_auc_score(y_test, model.predict_proba(X_test)[:, 1], average=\"weighted\")\n",
    "\n",
    "\n",
    "print(f\"Micro-averaged One-vs-Rest ROC AUC score:\\n{micro_roc_auc_mi:.2f}\")\n",
    "print(f\"Macro-averaged One-vs-Rest ROC AUC score:\\n{micro_roc_auc_mi:.2f}\")\n",
    "print(f\"Weighted-averaged One-vs-Rest ROC AUC score:\\n{micro_roc_auc_mi:.2f}\")"
   ]
  },
  {
   "cell_type": "markdown",
   "metadata": {},
   "source": [
    "Agora podemos usar o mesmo modelo no mesmo conjunto de dados e, em vez de prever rótulos de classe diretamente, podemos prever probabilidades."
   ]
  },
  {
   "cell_type": "code",
   "execution_count": 1549,
   "metadata": {},
   "outputs": [],
   "source": [
    "# Prever probabilidades\n",
    "# Podemos usar o predict_proba para recuperar as probabilidades de classe definidas pelo modelo\n",
    "yhat_proba = model.predict_proba(X_valid)\n",
    "\n",
    "# Mantenha probabilidades apenas para o resultado positivo\n",
    "probs = yhat_proba[:, 1]"
   ]
  },
  {
   "cell_type": "markdown",
   "metadata": {},
   "source": [
    "A seguir, podemos definir um conjunto de limites para avaliar as probabilidades. \n",
    "\n",
    "Neste caso, testaremos todos os limites entre 0.0 e 1.0 com tamanho de passo de 0.001, ou seja, testaremos 0.0, 0.001, 0.002, 0.003 e assim por diante até 0.999."
   ]
  },
  {
   "cell_type": "code",
   "execution_count": 1550,
   "metadata": {},
   "outputs": [],
   "source": [
    "# Definir limites (thresholds)\n",
    "thresholds = np.arange(0, 1, 0.001)"
   ]
  },
  {
   "cell_type": "markdown",
   "metadata": {},
   "source": [
    "A seguir, precisamos de uma maneira de usar um único limite para interpretar as probabilidades previstas.\n",
    "\n",
    "Isso pode ser conseguido mapeando todos os valores iguais ou maiores que o limite para 1 e todos os valores menores que o limite para 0. \n",
    "\n",
    "Definiremos uma função to_labels() para fazer isso, que tomará as probabilidades e o limite como argumento e retornará uma matriz de inteiros em {0, 1}"
   ]
  },
  {
   "cell_type": "code",
   "execution_count": 1551,
   "metadata": {},
   "outputs": [],
   "source": [
    "# Aplicar limite a probabilidades positivas para criar rótulos\n",
    "def to_labels(pos_probs, threshold):\n",
    "    return (pos_probs >= threshold).astype('int')"
   ]
  },
  {
   "cell_type": "markdown",
   "metadata": {},
   "source": [
    "Podemos então chamar essa função para cada limite e avaliar os rótulos resultantes usando f1_score()."
   ]
  },
  {
   "cell_type": "code",
   "execution_count": 1552,
   "metadata": {},
   "outputs": [],
   "source": [
    "# evaluate each threshold\n",
    "scores = []\n",
    "for t in thresholds:\n",
    "    scores.append(balanced_accuracy_score(y_valid, to_labels(probs, t)))"
   ]
  },
  {
   "cell_type": "markdown",
   "metadata": {},
   "source": [
    "Agora temos uma série de pontuações que avaliam cada limite em nossa matriz de limites.\n",
    "\n",
    "Tudo o que precisamos fazer agora é localizar o índice do array que possui a maior pontuação (melhor F1-Score) e teremos o limite ideal e sua avaliação."
   ]
  },
  {
   "cell_type": "code",
   "execution_count": 1553,
   "metadata": {},
   "outputs": [
    {
     "name": "stdout",
     "output_type": "stream",
     "text": [
      "Threshold=0.05, Balanced Accuracy=1.00\n"
     ]
    }
   ],
   "source": [
    "# get best threshold\n",
    "ix = np.argmax(scores)\n",
    "print('Threshold=%.2f, Balanced Accuracy=%.2f' % (thresholds[ix], scores[ix]))"
   ]
  },
  {
   "cell_type": "code",
   "execution_count": 1554,
   "metadata": {},
   "outputs": [
    {
     "name": "stdout",
     "output_type": "stream",
     "text": [
      "Balanced Accuracy=0.97\n"
     ]
    }
   ],
   "source": [
    "yhat_proba = model.predict_proba(X_test)\n",
    "\n",
    "# Mantenha probabilidades apenas para o resultado positivo\n",
    "probs_test = yhat_proba[:, 1]\n",
    "\n",
    "print('Balanced Accuracy=%.2f' % balanced_accuracy_score(y_test, to_labels(probs_test, thresholds[ix])))"
   ]
  },
  {
   "cell_type": "markdown",
   "metadata": {},
   "source": [
    "A execução do exemplo relata o limite ideal como 0.26 (em comparação com o padrão de 0,5) que atinge um F1-Score de cerca de 0.95 (em comparação com 0.85).\n",
    "\n",
    "Nota: Seus resultados podem variar devido à natureza estocástica do algoritmo ou procedimento de avaliação, ou diferenças na precisão numérica. Considere executar o exemplo algumas vezes e compare o resultado médio.\n",
    "\n",
    "Você pode usar este exemplo como modelo ao ajustar o limite em seu próprio problema, permitindo substituir seu próprio modelo, métrica e até mesmo resolução de limites que deseja avaliar."
   ]
  },
  {
   "cell_type": "code",
   "execution_count": 1555,
   "metadata": {},
   "outputs": [
    {
     "data": {
      "image/png": "[encoded data removed]",
      "text/plain": [
       "<Figure size 640x480 with 1 Axes>"
      ]
     },
     "metadata": {},
     "output_type": "display_data"
    }
   ],
   "source": [
    "fpr, tpr, thresholds = roc_curve(y_test, to_labels(probs, thresholds[ix]))\n",
    "\n",
    "pyplot.plot([0,1], [0,1], linestyle='--', label='No Skill')\n",
    "pyplot.plot(fpr, tpr, marker='.', label='Logistic')\n",
    "# axis labels\n",
    "pyplot.xlabel('False Positive Rate')\n",
    "pyplot.ylabel('True Positive Rate')\n",
    "pyplot.legend()\n",
    "# show the plot\n",
    "pyplot.show()"
   ]
  },
  {
   "cell_type": "markdown",
   "metadata": {},
   "source": [
    "#### **TunedThresholdClassifierCV**\n",
    "\n",
    "O TunedThresholdClassifierCV é um classificador que ajusta, automaticamente, o limite de decisão usando **validação cruzada**.  O limite ideal é escolhido para maximizar uma determinada métrica.\n",
    "\n",
    "Este estimador pós-ajusta o limite de decisão (ponto de corte) que é usado para converter estimativas de probabilidade posteriores (ou seja, saída de predict_proba) ou pontuações de decisão (ou seja, saída de decision_function) em um rótulo de classe.\n",
    "\n",
    "O limite de decisão pode ser ajustado através de diferentes estratégias controladas pelo parâmetro scoring. \n",
    "\n",
    "Uma maneira de ajustar o limite é maximizar uma métrica scikit-learn predefinida. Por padrão, a balanced accuracy é a métrica usada, mas esteja ciente de que deve-se escolher uma métrica significativa para seu caso de uso.\n",
    "\n",
    "Por padrão, TunedThresholdClassifierCV usa uma validação cruzada estratificada de 5 vezes para ajustar o limite de decisão. O parâmetro cv permite controlar a estratégia de validação cruzada. \n",
    "\n",
    "É possível ignorar a validação cruzada definindo cv=\"prefit\" e fornecendo um classificador ajustado/treinado. Neste caso, o limite de decisão é ajustado nos dados fornecidos ao método de ajuste. A opção cv=\"prefit\" só deve ser usada quando o classificador fornecido já foi treinado e você deseja apenas encontrar o melhor limite de decisão usando um novo conjunto de validação. Você deve ser extremamente cuidadoso ao usar esta opção. Você nunca deve usar os mesmos dados para treinar o classificador e ajustar o limite de decisão devido ao risco de overfitting. \n",
    "\n",
    "Quando a validação cruzada é muito cara, uma alternativa potencial é usar uma única divisão de treinamento e teste/validação, fornecendo um número flutuante no intervalo do parâmetro. Ele divide os dados em um conjunto de treinamento e teste/validação. \n",
    "\n",
    "[Tuning the decision threshold for class prediction](https://scikit-learn.org/stable/modules/classification_threshold.html#tunedthresholdclassifiercv)"
   ]
  },
  {
   "cell_type": "code",
   "execution_count": 1556,
   "metadata": {},
   "outputs": [
    {
     "name": "stdout",
     "output_type": "stream",
     "text": [
      "Balanced Accuracy sem Ajuste do Threshold: 0.81\n",
      "Balanced Accuracy com Ajuste do Threshold: 0.99\n",
      "Threshold 0.020\n"
     ]
    }
   ],
   "source": [
    "#####################################################################################################\n",
    "# Instanciar o modelo\n",
    "model = LogisticRegression()\n",
    "\n",
    "# Treinar o modelo\n",
    "model.fit(X_train, y_train)\n",
    "\n",
    "# Prever rótulos\n",
    "yhat = model.predict(X_test)\n",
    "\n",
    "# Avaliar o modelo\n",
    "score = balanced_accuracy_score(y_test, yhat)\n",
    "print('Balanced Accuracy sem Ajuste do Threshold: %.2f' % score)\n",
    "#####################################################################################################\n",
    "\n",
    "\n",
    "\n",
    "#####################################################################################################\n",
    "# Instanciar o modelo\n",
    "base_model = LogisticRegression()\n",
    "\n",
    "# Instancia o Classificador para Definir o Limite de Decisão (Threshold)\n",
    "model = TunedThresholdClassifierCV(estimator=base_model, scoring='balanced_accuracy') \n",
    "\n",
    "# Treina o Modelo e Ajusta o Limite de Decisão\n",
    "model.fit(X_train, y_train)\n",
    "\n",
    "# Prever rótulos\n",
    "yhat = model.predict(X_test)\n",
    "\n",
    "# Avaliar o modelo\n",
    "score = balanced_accuracy_score(y_test, yhat)\n",
    "print('Balanced Accuracy com Ajuste do Threshold: %.2f' % score)\n",
    "print(f\"Threshold {model.best_threshold_:.3f}\")\n",
    "\n",
    "#####################################################################################################"
   ]
  },
  {
   "cell_type": "code",
   "execution_count": 1557,
   "metadata": {},
   "outputs": [
    {
     "name": "stdout",
     "output_type": "stream",
     "text": [
      "Balanced Accuracy com Ajuste do Threshold: 0.97\n",
      "Threshold 0.030\n"
     ]
    }
   ],
   "source": [
    "# Instanciar o modelo\n",
    "base_model = LogisticRegression()\n",
    "\n",
    "# Instancia o Classificador para Definir o Limite de Decisão (Threshold)\n",
    "model = TunedThresholdClassifierCV(estimator=base_model, scoring='balanced_accuracy', cv=0.75) \n",
    "\n",
    "# Treina o Modelo e Ajusta o Limite de Decisão\n",
    "model.fit(X_train, y_train)\n",
    "\n",
    "# Prever rótulos\n",
    "yhat = model.predict(X_test)\n",
    "\n",
    "# Avaliar o modelo\n",
    "score = balanced_accuracy_score(y_test, yhat)\n",
    "print('Balanced Accuracy com Ajuste do Threshold: %.2f' % score)\n",
    "print(f\"Threshold {model.best_threshold_:.3f}\")"
   ]
  },
  {
   "cell_type": "code",
   "execution_count": 1558,
   "metadata": {},
   "outputs": [
    {
     "name": "stdout",
     "output_type": "stream",
     "text": [
      "Balanced Accuracy com Ajuste do Threshold: 0.99\n",
      "Threshold 0.020\n"
     ]
    }
   ],
   "source": [
    "# FORMA ERRADA\n",
    "# Como desabilitamos a validação cruzada, ajustamos o ponto de corte no mesmo conjunto em que o modelo foi treinado, e esse é o motivo do sobreajuste.\n",
    "# Esta opção deve, portanto, ser utilizada com cautela. \n",
    "# É preciso ter certeza de que os dados fornecidos no momento da adaptação ao TunedThresholdClassifierCV não são os mesmos que os dados usados ​​para treinar o classificador subjacente.\n",
    "base_model = LogisticRegression()\n",
    "base_model.fit(X_train, y_train)\n",
    "\n",
    "tuned_model = TunedThresholdClassifierCV(estimator=base_model, scoring='balanced_accuracy', cv=\"prefit\", refit=False)\n",
    "tuned_model.fit(X_train, y_train)\n",
    "\n",
    "# Prever rótulos\n",
    "yhat = tuned_model.predict(X_test)\n",
    "\n",
    "# Avaliar o modelo\n",
    "score = balanced_accuracy_score(y_test, yhat)\n",
    "print('Balanced Accuracy com Ajuste do Threshold: %.2f' % score)\n",
    "print(f\"Threshold {tuned_model.best_threshold_:.3f}\")"
   ]
  },
  {
   "cell_type": "markdown",
   "metadata": {},
   "source": [
    "#### **FixedThresholdClassifier**\n",
    "\n",
    "A classe FixedThresholdClassifier nos permite definir manualmente o limite de decisão. No momento da predição, ele se comporta como o modelo ajustado anterior, mas nenhuma pesquisa é realizada durante o processo de ajuste.\n",
    "\n",
    "Aqui, reutilizaremos o limite de decisão encontrado na seção anterior para criar um novo modelo e verificar se ele fornece os mesmos resultados."
   ]
  },
  {
   "cell_type": "code",
   "execution_count": 1559,
   "metadata": {},
   "outputs": [
    {
     "name": "stdout",
     "output_type": "stream",
     "text": [
      "Balanced Accuracy com Ajuste do Threshold: 0.97\n"
     ]
    }
   ],
   "source": [
    "# Instanciar o modelo\n",
    "base_model = LogisticRegression()\n",
    "\n",
    "# Instancia o Classificador para Definir o Limite de Decisão (Threshold)\n",
    "model = FixedThresholdClassifier(estimator=base_model, threshold=0.061) \n",
    "\n",
    "# Treina o Modelo e Ajusta o Limite de Decisão\n",
    "model.fit(X_train, y_train)\n",
    "\n",
    "# Prever rótulos\n",
    "yhat = model.predict(X_test)\n",
    "\n",
    "# Avaliar o modelo\n",
    "score = balanced_accuracy_score(y_test, yhat)\n",
    "print('Balanced Accuracy com Ajuste do Threshold: %.2f' % score)"
   ]
  }
 ],
 "metadata": {
  "kernelspec": {
   "display_name": "Python 3",
   "language": "python",
   "name": "python3"
  },
  "language_info": {
   "codemirror_mode": {
    "name": "ipython",
    "version": 3
   },
   "file_extension": ".py",
   "mimetype": "text/x-python",
   "name": "python",
   "nbconvert_exporter": "python",
   "pygments_lexer": "ipython3",
   "version": "3.12.3"
  }
 },
 "nbformat": 4,
 "nbformat_minor": 2
}
